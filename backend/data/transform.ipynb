{
 "cells": [
  {
   "cell_type": "markdown",
   "id": "8b009c70",
   "metadata": {},
   "source": [
    "0. Check for NULLS etc\n",
    "1. Converting all the fields to snake case\n",
    "2. Convert day/month/year to a year category as well\n",
    "3. Round off popularity to nearest 500 after int conversion\n",
    "4. Same with votes and convert to neareast 10"
   ]
  },
  {
   "cell_type": "code",
   "execution_count": 58,
   "id": "0bb928fe",
   "metadata": {},
   "outputs": [],
   "source": [
    "import numpy as np \n",
    "import pandas as pd\n",
    "\n",
    "#Loading dataset\n",
    "movies = pd.read_csv('./movies_dataset.csv')"
   ]
  },
  {
   "cell_type": "code",
   "execution_count": 59,
   "id": "36ab9fab",
   "metadata": {},
   "outputs": [],
   "source": [
    "#Handling missing values\n",
    "#print(movies.shape)\n",
    "#print(movies.isna().sum())\n",
    "\n",
    "movies.drop([i for i in range(len(movies)) if movies.iloc[i].isna().sum() > 0] , inplace=True)\n",
    "\n",
    "#print(movies.shape)\n",
    "#print(movies.isna().sum())"
   ]
  },
  {
   "cell_type": "code",
   "execution_count": 60,
   "id": "bee35a45",
   "metadata": {},
   "outputs": [],
   "source": [
    "#Converting fields to snake_casing\n",
    "\n",
    "movies.columns = [i.lower().replace(' ', '_') for i in movies.columns]\n",
    "#print(movies.columns)\n",
    "\n",
    "#Creating a new category year\n",
    "\n",
    "year_category = movies['release_date'].apply(lambda str : str[:4])\n",
    "movies.insert(1, 'year', year_category)"
   ]
  },
  {
   "cell_type": "code",
   "execution_count": 61,
   "id": "a29945ed",
   "metadata": {},
   "outputs": [],
   "source": [
    "#Rounding off popularity and votes to nearest lesser thousands and 50s\n",
    "\n",
    "movies['popularity'] = movies['popularity'].apply(lambda x : int(x - (x % 500)))\n",
    "movies['vote_count'] = movies['vote_count'].apply(lambda x : int(int(x) - (int(x) % 10)))\n",
    "movies['original_language'] = movies['original_language'].apply(lambda x : x.upper())"
   ]
  },
  {
   "cell_type": "code",
   "execution_count": 63,
   "id": "cb82e9ef",
   "metadata": {},
   "outputs": [],
   "source": [
    "#Saving the transformed dataset)\n",
    "movies.to_csv('./transform_movies_dataset.csv' , index=False)"
   ]
  }
 ],
 "metadata": {
  "kernelspec": {
   "display_name": "base",
   "language": "python",
   "name": "python3"
  },
  "language_info": {
   "codemirror_mode": {
    "name": "ipython",
    "version": 3
   },
   "file_extension": ".py",
   "mimetype": "text/x-python",
   "name": "python",
   "nbconvert_exporter": "python",
   "pygments_lexer": "ipython3",
   "version": "3.13.5"
  }
 },
 "nbformat": 4,
 "nbformat_minor": 5
}
