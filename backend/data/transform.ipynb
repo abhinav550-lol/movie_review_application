{
 "cells": [
  {
   "cell_type": "markdown",
   "id": "8b009c70",
   "metadata": {},
   "source": [
    "0. Check for NULLS etc\n",
    "1. Converting all the fields to snake case\n",
    "2. Convert day/month/year to a year category as well\n",
    "3. Round off popularity to nearest 500 after int conversion\n",
    "4. Same with votes and convert to neareast 10"
   ]
  },
  {
   "cell_type": "code",
   "execution_count": 10,
   "id": "0bb928fe",
   "metadata": {},
   "outputs": [],
   "source": [
    "import numpy as np \n",
    "import pandas as pd\n",
    "\n",
    "#Loading dataset\n",
    "movies = pd.read_csv('./movies_dataset.csv')"
   ]
  },
  {
   "cell_type": "code",
   "execution_count": null,
   "id": "36ab9fab",
   "metadata": {},
   "outputs": [
    {
     "name": "stdout",
     "output_type": "stream",
     "text": [
      "(9837, 9)\n",
      "Release_Date          0\n",
      "Title                 9\n",
      "Overview              9\n",
      "Popularity           10\n",
      "Vote_Count           10\n",
      "Vote_Average         10\n",
      "Original_Language    10\n",
      "Genre                11\n",
      "Poster_Url           11\n",
      "dtype: int64\n",
      "(9826, 9)\n",
      "Release_Date         0\n",
      "Title                0\n",
      "Overview             0\n",
      "Popularity           0\n",
      "Vote_Count           0\n",
      "Vote_Average         0\n",
      "Original_Language    0\n",
      "Genre                0\n",
      "Poster_Url           0\n",
      "dtype: int64\n"
     ]
    }
   ],
   "source": [
    "#Handling missing values\n",
    "print(movies.shape)\n",
    "print(movies.isna().sum())\n",
    "\n",
    "movies.drop([i for i in range(len(movies)) if movies.iloc[i].isna().sum() > 0] , inplace=True)\n",
    "\n",
    "#print(movies.shape)\n",
    "#print(movies.isna().sum())"
   ]
  },
  {
   "cell_type": "code",
   "execution_count": null,
   "id": "bee35a45",
   "metadata": {},
   "outputs": [
    {
     "name": "stdout",
     "output_type": "stream",
     "text": [
      "Index(['Release_Date', 'Title', 'Overview', 'Popularity', 'Vote_Count',\n",
      "       'Vote_Average', 'Original_Language', 'Genre', 'Poster_Url'],\n",
      "      dtype='object')\n",
      "Index(['release_date', 'title', 'overview', 'popularity', 'vote_count',\n",
      "       'vote_average', 'original_language', 'genre', 'poster_url'],\n",
      "      dtype='object')\n"
     ]
    }
   ],
   "source": [
    "#Converting fields to snake_casing\n",
    "\n",
    "#print(movies.columns)\n",
    "movies.columns = [i.lower().replace(' ', '_') for i in movies.columns]\n",
    "print(movies.columns)\n",
    "\n",
    "#Creating a new category year\n",
    "\n",
    "year_category = movies['release_date'].apply(lambda str : str[:4])\n",
    "movies.insert(1, 'year', year_category)"
   ]
  },
  {
   "cell_type": "code",
   "execution_count": 6,
   "id": "a29945ed",
   "metadata": {},
   "outputs": [],
   "source": [
    "#Rounding off popularity and votes to nearest lesser thousands and 50s\n",
    "\n",
    "movies['popularity'] = movies['popularity'].apply(lambda x : int(x - (x % 500)))\n",
    "movies['vote_count'] = movies['vote_count'].apply(lambda x : int(int(x) - (int(x) % 10)))\n",
    "movies['original_language'] = movies['original_language'].apply(lambda x : x.upper())"
   ]
  },
  {
   "cell_type": "code",
   "execution_count": null,
   "id": "cb82e9ef",
   "metadata": {},
   "outputs": [
    {
     "data": {
      "text/html": [
       "<div>\n",
       "<style scoped>\n",
       "    .dataframe tbody tr th:only-of-type {\n",
       "        vertical-align: middle;\n",
       "    }\n",
       "\n",
       "    .dataframe tbody tr th {\n",
       "        vertical-align: top;\n",
       "    }\n",
       "\n",
       "    .dataframe thead th {\n",
       "        text-align: right;\n",
       "    }\n",
       "</style>\n",
       "<table border=\"1\" class=\"dataframe\">\n",
       "  <thead>\n",
       "    <tr style=\"text-align: right;\">\n",
       "      <th></th>\n",
       "      <th>release_date</th>\n",
       "      <th>year</th>\n",
       "      <th>title</th>\n",
       "      <th>overview</th>\n",
       "      <th>popularity</th>\n",
       "      <th>vote_count</th>\n",
       "      <th>vote_average</th>\n",
       "      <th>original_language</th>\n",
       "      <th>genre</th>\n",
       "      <th>poster_url</th>\n",
       "    </tr>\n",
       "  </thead>\n",
       "  <tbody>\n",
       "    <tr>\n",
       "      <th>0</th>\n",
       "      <td>2021-12-15</td>\n",
       "      <td>2021</td>\n",
       "      <td>Spider-Man: No Way Home</td>\n",
       "      <td>Peter Parker is unmasked and no longer able to...</td>\n",
       "      <td>5000</td>\n",
       "      <td>8940</td>\n",
       "      <td>8.3</td>\n",
       "      <td>EN</td>\n",
       "      <td>Action, Adventure, Science Fiction</td>\n",
       "      <td>https://image.tmdb.org/t/p/original/1g0dhYtq4i...</td>\n",
       "    </tr>\n",
       "    <tr>\n",
       "      <th>1</th>\n",
       "      <td>2022-03-01</td>\n",
       "      <td>2022</td>\n",
       "      <td>The Batman</td>\n",
       "      <td>In his second year of fighting crime, Batman u...</td>\n",
       "      <td>3500</td>\n",
       "      <td>1150</td>\n",
       "      <td>8.1</td>\n",
       "      <td>EN</td>\n",
       "      <td>Crime, Mystery, Thriller</td>\n",
       "      <td>https://image.tmdb.org/t/p/original/74xTEgt7R3...</td>\n",
       "    </tr>\n",
       "    <tr>\n",
       "      <th>2</th>\n",
       "      <td>2022-02-25</td>\n",
       "      <td>2022</td>\n",
       "      <td>No Exit</td>\n",
       "      <td>Stranded at a rest stop in the mountains durin...</td>\n",
       "      <td>2500</td>\n",
       "      <td>120</td>\n",
       "      <td>6.3</td>\n",
       "      <td>EN</td>\n",
       "      <td>Thriller</td>\n",
       "      <td>https://image.tmdb.org/t/p/original/vDHsLnOWKl...</td>\n",
       "    </tr>\n",
       "    <tr>\n",
       "      <th>3</th>\n",
       "      <td>2021-11-24</td>\n",
       "      <td>2021</td>\n",
       "      <td>Encanto</td>\n",
       "      <td>The tale of an extraordinary family, the Madri...</td>\n",
       "      <td>2000</td>\n",
       "      <td>5070</td>\n",
       "      <td>7.7</td>\n",
       "      <td>EN</td>\n",
       "      <td>Animation, Comedy, Family, Fantasy</td>\n",
       "      <td>https://image.tmdb.org/t/p/original/4j0PNHkMr5...</td>\n",
       "    </tr>\n",
       "    <tr>\n",
       "      <th>4</th>\n",
       "      <td>2021-12-22</td>\n",
       "      <td>2021</td>\n",
       "      <td>The King's Man</td>\n",
       "      <td>As a collection of history's worst tyrants and...</td>\n",
       "      <td>1500</td>\n",
       "      <td>1790</td>\n",
       "      <td>7.0</td>\n",
       "      <td>EN</td>\n",
       "      <td>Action, Adventure, Thriller, War</td>\n",
       "      <td>https://image.tmdb.org/t/p/original/aq4Pwv5Xeu...</td>\n",
       "    </tr>\n",
       "  </tbody>\n",
       "</table>\n",
       "</div>"
      ],
      "text/plain": [
       "  release_date  year                    title  \\\n",
       "0   2021-12-15  2021  Spider-Man: No Way Home   \n",
       "1   2022-03-01  2022               The Batman   \n",
       "2   2022-02-25  2022                  No Exit   \n",
       "3   2021-11-24  2021                  Encanto   \n",
       "4   2021-12-22  2021           The King's Man   \n",
       "\n",
       "                                            overview  popularity  vote_count  \\\n",
       "0  Peter Parker is unmasked and no longer able to...        5000        8940   \n",
       "1  In his second year of fighting crime, Batman u...        3500        1150   \n",
       "2  Stranded at a rest stop in the mountains durin...        2500         120   \n",
       "3  The tale of an extraordinary family, the Madri...        2000        5070   \n",
       "4  As a collection of history's worst tyrants and...        1500        1790   \n",
       "\n",
       "   vote_average original_language                               genre  \\\n",
       "0           8.3                EN  Action, Adventure, Science Fiction   \n",
       "1           8.1                EN            Crime, Mystery, Thriller   \n",
       "2           6.3                EN                            Thriller   \n",
       "3           7.7                EN  Animation, Comedy, Family, Fantasy   \n",
       "4           7.0                EN    Action, Adventure, Thriller, War   \n",
       "\n",
       "                                          poster_url  \n",
       "0  https://image.tmdb.org/t/p/original/1g0dhYtq4i...  \n",
       "1  https://image.tmdb.org/t/p/original/74xTEgt7R3...  \n",
       "2  https://image.tmdb.org/t/p/original/vDHsLnOWKl...  \n",
       "3  https://image.tmdb.org/t/p/original/4j0PNHkMr5...  \n",
       "4  https://image.tmdb.org/t/p/original/aq4Pwv5Xeu...  "
      ]
     },
     "execution_count": 9,
     "metadata": {},
     "output_type": "execute_result"
    }
   ],
   "source": [
    "#Saving the transformed dataset)\n",
    "movies.to_csv('./transform_movies_dataset.csv' , index=False)\n"
   ]
  }
 ],
 "metadata": {
  "kernelspec": {
   "display_name": "base",
   "language": "python",
   "name": "python3"
  },
  "language_info": {
   "codemirror_mode": {
    "name": "ipython",
    "version": 3
   },
   "file_extension": ".py",
   "mimetype": "text/x-python",
   "name": "python",
   "nbconvert_exporter": "python",
   "pygments_lexer": "ipython3",
   "version": "3.13.5"
  }
 },
 "nbformat": 4,
 "nbformat_minor": 5
}
